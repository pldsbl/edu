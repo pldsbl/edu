{
 "cells": [
  {
   "cell_type": "code",
   "execution_count": 8,
   "id": "b443ec9b-9b62-4a87-99fc-72b510d2fc11",
   "metadata": {},
   "outputs": [],
   "source": [
    "class Employee:\n",
    "\n",
    "    def __init__(self, name, salary):\n",
    "        self.name = name\n",
    "        self.salary = salary\n",
    "\n",
    "    def up(self):\n",
    "        self.salary += 100\n",
    "        return f'Зарплата сотрудника {self.name} увеличена на 100'\n",
    "\n",
    "    def print(self):\n",
    "        return f'Сотрудник {self.name} получает зарплату {self.salary}'\n"
   ]
  },
  {
   "cell_type": "code",
   "execution_count": 9,
   "id": "e3c2c108-2851-435a-a6b4-c282bb32d90b",
   "metadata": {},
   "outputs": [],
   "source": [
    "peter = Employee('Peter', 150)"
   ]
  },
  {
   "cell_type": "code",
   "execution_count": 10,
   "id": "88d53f7a-0e6f-42af-bf23-ecf01559b632",
   "metadata": {},
   "outputs": [
    {
     "data": {
      "text/plain": [
       "'Зарплата сотрудника Peter увеличике на 100'"
      ]
     },
     "execution_count": 10,
     "metadata": {},
     "output_type": "execute_result"
    }
   ],
   "source": [
    "peter.up()"
   ]
  },
  {
   "cell_type": "code",
   "execution_count": 11,
   "id": "b6fab0e8-369d-46bf-9ece-b25c99258461",
   "metadata": {},
   "outputs": [
    {
     "data": {
      "text/plain": [
       "'Сотрудник Peter получает зарплату 250'"
      ]
     },
     "execution_count": 11,
     "metadata": {},
     "output_type": "execute_result"
    }
   ],
   "source": [
    "peter.print()"
   ]
  },
  {
   "cell_type": "code",
   "execution_count": 58,
   "id": "7ea8570e-40cd-4d38-b046-daf65c43ea6a",
   "metadata": {},
   "outputs": [
    {
     "name": "stdout",
     "output_type": "stream",
     "text": [
      "{'ID': 'R01235', 'NumCode': '840', 'CharCode': 'USD', 'Nominal': 1, 'Name': 'Доллар США', 'Value': 98.0126, 'Previous': 97.9658}\n",
      "98.0126\n"
     ]
    }
   ],
   "source": [
    "import requests\n",
    "\n",
    "r = requests.get('https://www.cbr-xml-daily.ru/daily_json.js')\n",
    "#requests.get('https://www.cbr-xml-daily.ru/daily_json.js')\n",
    "#print(r.json())\n",
    "#print(r.json()['Valute'])\n",
    "print(r.json()['Valute']['USD'])\n",
    "print(r.json()['Valute']['USD']['Value'])"
   ]
  },
  {
   "cell_type": "code",
   "execution_count": 1,
   "id": "e37a1fee-6efc-47f9-bb42-71f0a6293212",
   "metadata": {},
   "outputs": [],
   "source": [
    "import requests\n",
    "\n",
    "class Rate:\n",
    "\n",
    "    def __init__(self, format_='value'):\n",
    "        self.format = format_\n",
    "\n",
    "    def get_valute(self):\n",
    "        '''\n",
    "        Возращает словарь с информацей о валютах, где ключи идентификаторы валют, как например 'USD', 'EUR' и далее\n",
    "\n",
    "        \"USD\": {\n",
    "            \"ID\": \"R01235\",\n",
    "            \"NumCode\": \"840\",\n",
    "            \"CharCode\": \"USD\",\n",
    "            \"Nominal\": 1,\n",
    "            \"Name\": \"Доллар США\",\n",
    "            \"Value\": 98.0126,\n",
    "            \"Previous\": 97.9658\n",
    "        }\n",
    "\n",
    "        '''\n",
    "        self.r = requests.get('https://www.cbr-xml-daily.ru/daily_json.js')\n",
    "        return self.r.json()['Valute']\n",
    "\n",
    "    def make_format(self, currency):\n",
    "        '''\n",
    "        Возвращает информацию о валюте currency в двух вариантах -- 'full' или 'value'\n",
    "        '''\n",
    "\n",
    "        response = self.get_valute()\n",
    "\n",
    "        if currency in response:\n",
    "            if self.format == 'full':\n",
    "                    return response[currency]\n",
    "\n",
    "            if self.format == 'value':\n",
    "                return response[currency]['Value']\n",
    "\n",
    "        return 'Error'\n",
    "\n",
    "    def eur(self):\n",
    "        '''\n",
    "        Возвращает курс евро на сегодня в формате self.format\n",
    "        '''\n",
    "        return self.make_format('EUR')\n",
    "\n",
    "    def usd(self):\n",
    "        '''\n",
    "        Возвращает курс доллара на сегодня в формате self.format\n",
    "        '''\n",
    "        return self.make_format('USD')\n",
    "    \n",
    "    def top_rate(self):\n",
    "        '''\n",
    "        Напишите функцию, которая возвращает название валюты (поле ‘Name’) с максимальным значением курса \n",
    "        '''\n",
    "        response = self.get_valute()\n",
    "        \n",
    "        key_top_valute = list(response.keys())[0]\n",
    "\n",
    "        for key, valute in response.items():\n",
    "            if response[key_top_valute]['Value'] < valute['Value']:\n",
    "                key_top_valute = key\n",
    "\n",
    "        return f'Валюта с максимальным значением курса: {response[key_top_valute]['Name']}'\n"
   ]
  },
  {
   "cell_type": "code",
   "execution_count": 2,
   "id": "718a55bc-80d4-406c-9adc-57e86fd3216a",
   "metadata": {},
   "outputs": [],
   "source": [
    "dollar = Rate('value')"
   ]
  },
  {
   "cell_type": "code",
   "execution_count": 3,
   "id": "a864ac9d-3755-4dba-bbb4-fca6378d7560",
   "metadata": {},
   "outputs": [
    {
     "data": {
      "text/plain": [
       "{'ID': 'R01239',\n",
       " 'NumCode': '978',\n",
       " 'CharCode': 'EUR',\n",
       " 'Nominal': 1,\n",
       " 'Name': 'Евро',\n",
       " 'Value': 102.1301,\n",
       " 'Previous': 102.7782}"
      ]
     },
     "execution_count": 3,
     "metadata": {},
     "output_type": "execute_result"
    }
   ],
   "source": [
    "Rate('full').eur()"
   ]
  },
  {
   "cell_type": "code",
   "execution_count": 4,
   "id": "1f283747-3ec6-44ac-896a-668e55f005d3",
   "metadata": {},
   "outputs": [
    {
     "data": {
      "text/plain": [
       "97.8107"
      ]
     },
     "execution_count": 4,
     "metadata": {},
     "output_type": "execute_result"
    }
   ],
   "source": [
    "Rate('value').usd()"
   ]
  },
  {
   "cell_type": "code",
   "execution_count": 7,
   "id": "b51d35c5-82fc-4789-9bac-021da3eaa783",
   "metadata": {},
   "outputs": [
    {
     "data": {
      "text/plain": [
       "'Валюта с максимальным значением курса: СДР (специальные права заимствования)'"
      ]
     },
     "execution_count": 7,
     "metadata": {},
     "output_type": "execute_result"
    }
   ],
   "source": [
    "dollar.top_rate()"
   ]
  },
  {
   "cell_type": "code",
   "execution_count": null,
   "id": "b8f4b92a-2e81-4f45-a49a-ae6a2d8e712a",
   "metadata": {},
   "outputs": [],
   "source": []
  },
  {
   "cell_type": "code",
   "execution_count": null,
   "id": "d1f59078-e7c9-400b-bdde-901bdd738e94",
   "metadata": {},
   "outputs": [],
   "source": []
  }
 ],
 "metadata": {
  "kernelspec": {
   "display_name": "Python 3 (ipykernel)",
   "language": "python",
   "name": "python3"
  },
  "language_info": {
   "codemirror_mode": {
    "name": "ipython",
    "version": 3
   },
   "file_extension": ".py",
   "mimetype": "text/x-python",
   "name": "python",
   "nbconvert_exporter": "python",
   "pygments_lexer": "ipython3",
   "version": "3.12.2"
  }
 },
 "nbformat": 4,
 "nbformat_minor": 5
}
