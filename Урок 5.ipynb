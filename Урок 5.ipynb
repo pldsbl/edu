{
 "cells": [
  {
   "cell_type": "code",
   "execution_count": 40,
   "id": "6a457957-351d-4597-b203-56a7699b86fd",
   "metadata": {},
   "outputs": [],
   "source": [
    "'''\n",
    "Задание 1\n",
    "Печатные газеты использовали свой формат дат для каждого выпуска. Для каждой газеты из списка напишите \n",
    "формат указанной даты для перевода в объект datetime:\n",
    "The Moscow Times — Wednesday, October 2, 2002\n",
    "The Guardian — Friday, 11.10.13\n",
    "Daily News — Thursday, 18 August 1977\n",
    "'''\n",
    "\n",
    "from datetime import datetime\n",
    "\n",
    "#media_1 = 'The Moscow Times — Wednesday, October 2, 2002'\n",
    "#media_2 = 'The Guardian — Friday, 11.10.13'\n",
    "#media_3 = 'Daily News — Thursday, 18 August 1977'\n",
    "\n",
    "#print(media_1[19:])\n",
    "#media_data_1 = datetime.strptime(media_1[19:], '%A, %B %d, %Y')\n",
    "#print(media_data_1)\n",
    "\n",
    "def media(strg):\n",
    "    if 'The Moscow Times' in strg:\n",
    "        strg_data = strg.replace('The Moscow Times — ', '')\n",
    "        media_data = datetime.strptime(strg_data, '%A, %B %d, %Y')\n",
    "        return media_data\n",
    "    elif 'The Guardian' in strg:\n",
    "        strg_data = strg.replace('The Guardian — ', '')\n",
    "        media_data = datetime.strptime(strg_data, '%A, %d.%m.%y')\n",
    "        return media_data\n",
    "    elif 'Daily News' in strg:\n",
    "        strg_data = strg.replace('Daily News — ', '')\n",
    "        media_data = datetime.strptime(strg_data, '%A, %d %B %Y')\n",
    "        return media_data       "
   ]
  },
  {
   "cell_type": "code",
   "execution_count": 39,
   "id": "0d6036b7-1a14-4062-aaa7-def59aad37c9",
   "metadata": {},
   "outputs": [
    {
     "name": "stdout",
     "output_type": "stream",
     "text": [
      "2002-10-02 00:00:00\n"
     ]
    }
   ],
   "source": [
    "strg = 'The Moscow Times — Wednesday, October 2, 2002'\n",
    "strg_data = strg.replace('The Moscow Times — ', '')\n",
    "media_data = datetime.strptime(strg_data, '%A, %B %d, %Y')\n",
    "print(media_data)"
   ]
  },
  {
   "cell_type": "code",
   "execution_count": 41,
   "id": "6a44645b-3446-4db4-b5ad-f729bd883c90",
   "metadata": {},
   "outputs": [
    {
     "data": {
      "text/plain": [
       "datetime.datetime(2002, 10, 2, 0, 0)"
      ]
     },
     "execution_count": 41,
     "metadata": {},
     "output_type": "execute_result"
    }
   ],
   "source": [
    "media('The Moscow Times — Wednesday, October 2, 2002')"
   ]
  },
  {
   "cell_type": "code",
   "execution_count": 43,
   "id": "921713aa-1d94-4381-b245-dd0038e7214e",
   "metadata": {},
   "outputs": [
    {
     "data": {
      "text/plain": [
       "datetime.datetime(2013, 10, 11, 0, 0)"
      ]
     },
     "execution_count": 43,
     "metadata": {},
     "output_type": "execute_result"
    }
   ],
   "source": [
    "media('The Guardian — Friday, 11.10.13')"
   ]
  },
  {
   "cell_type": "code",
   "execution_count": 44,
   "id": "0c3f6117-4b79-42dd-ba65-92682583bd38",
   "metadata": {},
   "outputs": [
    {
     "data": {
      "text/plain": [
       "datetime.datetime(1977, 8, 18, 0, 0)"
      ]
     },
     "execution_count": 44,
     "metadata": {},
     "output_type": "execute_result"
    }
   ],
   "source": [
    "media('Daily News — Thursday, 18 August 1977')"
   ]
  },
  {
   "cell_type": "code",
   "execution_count": 22,
   "id": "31f54d65-8da1-4f96-a151-8b995f955eb8",
   "metadata": {
    "scrolled": true
   },
   "outputs": [
    {
     "data": {
      "text/plain": [
       "datetime.datetime(2002, 10, 2, 0, 0)"
      ]
     },
     "execution_count": 22,
     "metadata": {},
     "output_type": "execute_result"
    }
   ],
   "source": [
    "datetime.strptime('Wednesday, October 2, 2002', '%A, %B %d, %Y')"
   ]
  },
  {
   "cell_type": "code",
   "execution_count": 23,
   "id": "f7550689-69b4-43e9-9a90-0c8db31ad078",
   "metadata": {},
   "outputs": [
    {
     "data": {
      "text/plain": [
       "datetime.datetime(2002, 10, 20, 0, 0)"
      ]
     },
     "execution_count": 23,
     "metadata": {},
     "output_type": "execute_result"
    }
   ],
   "source": [
    "datetime.strptime('October 20, 2002', '%B %d, %Y')"
   ]
  },
  {
   "cell_type": "code",
   "execution_count": 72,
   "id": "922b5221-17a3-4b12-a892-77eca0ebe6c5",
   "metadata": {},
   "outputs": [],
   "source": [
    "'''\n",
    "Задание 2\n",
    "Дан поток дат в формате YYYY-MM-DD, в которых встречаются некорректные значения:\n",
    "stream = [‘2018-04-02’, ‘2018-02-29’, ‘2018-19-02’]\n",
    "\n",
    "Напишите функцию, которая проверяет эти даты на корректность. То есть для каждой даты возвращает True — дата корректна или False — некорректная.\n",
    "'''\n",
    "from datetime import datetime\n",
    "\n",
    "incorrect_data = 0 \n",
    "\n",
    "def checkdata(*args):\n",
    "    for data in args:\n",
    "        try:\n",
    "            print(f'Дата: {datetime.strptime(data, '%Y-%m-%d')} корректна!')\n",
    "        except:\n",
    "            global incorrect_data\n",
    "            incorrect_data += 1\n",
    "            print(f'Некорректный формат даты: {data}')\n",
    "            \n",
    "    print(f'Количество некорректных дат в вашем списке: {incorrect_data}')"
   ]
  },
  {
   "cell_type": "code",
   "execution_count": 73,
   "id": "a4d19ec1-e956-437f-b024-7e3bfb6fc8c3",
   "metadata": {},
   "outputs": [
    {
     "name": "stdout",
     "output_type": "stream",
     "text": [
      "Дата: 2018-04-02 00:00:00 корректна!\n",
      "Некорректный формат даты: 2018-02-29\n",
      "Некорректный формат даты: 2018-19-02\n",
      "Количество некорректных дат в вашем списке: 2\n"
     ]
    }
   ],
   "source": [
    "checkdata('2018-04-02','2018-02-29','2018-19-02')"
   ]
  },
  {
   "cell_type": "code",
   "execution_count": 177,
   "id": "254f08b8-64b9-49d5-97b5-63c89e7c5b81",
   "metadata": {},
   "outputs": [],
   "source": [
    "'''\n",
    "Задание 3\n",
    "Напишите функцию date_range, которая возвращает список дат за период от start_date до end_date.\n",
    "Даты должны вводиться в формате YYYY-MM-DD. В случае неверного формата или при start_date > end_date должен возвращаться пустой список.\n",
    "'''\n",
    "\n",
    "from datetime import datetime\n",
    "from datetime import timedelta\n",
    "\n",
    "def correctdata(data):\n",
    "    # Функция проверяет кореектность формата даты\n",
    "    try:\n",
    "        correct_data = datetime.strptime(data, '%Y-%m-%d')\n",
    "    except:\n",
    "        print(f'Некорректный формат в дате {data}')\n",
    "        return False\n",
    "    \n",
    "    return True\n",
    "    \n",
    "def datarange(start_date, end_date):\n",
    "    \n",
    "    array_data = []\n",
    "\n",
    "    if not (correctdata(start_date) and correctdata(end_date)):\n",
    "        return f'Cписок дат пуст: {array_data}'\n",
    "\n",
    "    current_data = datetime.strptime(start_date, '%Y-%m-%d')\n",
    "    \n",
    "    while current_data <= datetime.strptime(end_date, '%Y-%m-%d'):\n",
    "        array_data.append(current_data.strftime('%Y-%m-%d'))\n",
    "        current_data += timedelta(days=1)\n",
    "    \n",
    "    return array_data"
   ]
  },
  {
   "cell_type": "code",
   "execution_count": 178,
   "id": "b4d172b9-ab09-4346-a666-a8e173cb8ee4",
   "metadata": {},
   "outputs": [
    {
     "data": {
      "text/plain": [
       "['2020-12-20',\n",
       " '2020-12-21',\n",
       " '2020-12-22',\n",
       " '2020-12-23',\n",
       " '2020-12-24',\n",
       " '2020-12-25',\n",
       " '2020-12-26',\n",
       " '2020-12-27',\n",
       " '2020-12-28',\n",
       " '2020-12-29',\n",
       " '2020-12-30',\n",
       " '2020-12-31']"
      ]
     },
     "execution_count": 178,
     "metadata": {},
     "output_type": "execute_result"
    }
   ],
   "source": [
    "datarange('2020-12-20', '2020-12-31')"
   ]
  },
  {
   "cell_type": "code",
   "execution_count": 179,
   "id": "28dea274-3c2f-431a-a1ab-c1392b292784",
   "metadata": {},
   "outputs": [
    {
     "name": "stdout",
     "output_type": "stream",
     "text": [
      "Некорректный формат в дате 2020-00-20\n"
     ]
    },
    {
     "data": {
      "text/plain": [
       "'Cписок дат пуст: []'"
      ]
     },
     "execution_count": 179,
     "metadata": {},
     "output_type": "execute_result"
    }
   ],
   "source": [
    "datarange('2020-00-20', '2020-12-31')"
   ]
  },
  {
   "cell_type": "code",
   "execution_count": 185,
   "id": "21c0409e-4cc5-45a5-b4bc-4ed0a1950b3f",
   "metadata": {},
   "outputs": [],
   "source": [
    "'''\n",
    "Удаляет из списка default_list последнего пользователя\n",
    "и возвращает ID нового последнего пользователя.\n",
    "'''\n",
    "DEFAULT_USER_COUNT = 3\n",
    "\n",
    "def delete_and_return_last_user(region, default_list=['A100', 'A101', 'A102']):\n",
    "\n",
    "    element_to_delete = default_list[-1]\n",
    "    default_list.remove(element_to_delete)\n",
    "\n",
    "    print(default_list)\n",
    "    return default_list[DEFAULT_USER_COUNT-2]"
   ]
  },
  {
   "cell_type": "code",
   "execution_count": 187,
   "id": "f46face6-350b-4521-aa16-b1ff69ccb73a",
   "metadata": {},
   "outputs": [
    {
     "name": "stdout",
     "output_type": "stream",
     "text": [
      "['A100']\n"
     ]
    },
    {
     "ename": "IndexError",
     "evalue": "list index out of range",
     "output_type": "error",
     "traceback": [
      "\u001b[1;31m---------------------------------------------------------------------------\u001b[0m",
      "\u001b[1;31mIndexError\u001b[0m                                Traceback (most recent call last)",
      "Cell \u001b[1;32mIn[187], line 1\u001b[0m\n\u001b[1;32m----> 1\u001b[0m \u001b[43mdelete_and_return_last_user\u001b[49m\u001b[43m(\u001b[49m\u001b[38;5;241;43m1\u001b[39;49m\u001b[43m)\u001b[49m\n",
      "Cell \u001b[1;32mIn[185], line 13\u001b[0m, in \u001b[0;36mdelete_and_return_last_user\u001b[1;34m(region, default_list)\u001b[0m\n\u001b[0;32m     10\u001b[0m default_list\u001b[38;5;241m.\u001b[39mremove(element_to_delete)\n\u001b[0;32m     12\u001b[0m \u001b[38;5;28mprint\u001b[39m(default_list)\n\u001b[1;32m---> 13\u001b[0m \u001b[38;5;28;01mreturn\u001b[39;00m \u001b[43mdefault_list\u001b[49m\u001b[43m[\u001b[49m\u001b[43mDEFAULT_USER_COUNT\u001b[49m\u001b[38;5;241;43m-\u001b[39;49m\u001b[38;5;241;43m2\u001b[39;49m\u001b[43m]\u001b[49m\n",
      "\u001b[1;31mIndexError\u001b[0m: list index out of range"
     ]
    }
   ],
   "source": [
    "delete_and_return_last_user(1)"
   ]
  },
  {
   "cell_type": "code",
   "execution_count": 121,
   "id": "06d680d8-0e71-4998-93a5-c48bf8f9c46f",
   "metadata": {},
   "outputs": [
    {
     "name": "stdout",
     "output_type": "stream",
     "text": [
      "2025-01-14 20:55:19.084333\n"
     ]
    }
   ],
   "source": [
    "import datetime\n",
    "past_date = datetime.datetime.today() - datetime.timedelta(days=14)\n",
    "print(past_date)"
   ]
  },
  {
   "cell_type": "code",
   "execution_count": 126,
   "id": "711b330b-0c80-495a-9121-736aecacc5e6",
   "metadata": {},
   "outputs": [
    {
     "name": "stdout",
     "output_type": "stream",
     "text": [
      "2025-01-14 20:59:05.461946\n"
     ]
    }
   ],
   "source": [
    "from datetime import datetime\n",
    "from datetime import timedelta\n",
    "\n",
    "past_date = datetime.today() - timedelta(days=14)\n",
    "print(past_date)"
   ]
  },
  {
   "cell_type": "code",
   "execution_count": 124,
   "id": "ecb565f5-1754-45a9-b777-e0b5dbf09683",
   "metadata": {},
   "outputs": [
    {
     "ename": "AttributeError",
     "evalue": "module 'datetime' has no attribute 'strptime'",
     "output_type": "error",
     "traceback": [
      "\u001b[1;31m---------------------------------------------------------------------------\u001b[0m",
      "\u001b[1;31mAttributeError\u001b[0m                            Traceback (most recent call last)",
      "Cell \u001b[1;32mIn[124], line 6\u001b[0m\n\u001b[0;32m      3\u001b[0m start_date \u001b[38;5;241m=\u001b[39m \u001b[38;5;124m'\u001b[39m\u001b[38;5;124m2020-12-20\u001b[39m\u001b[38;5;124m'\u001b[39m\n\u001b[0;32m      4\u001b[0m end_date \u001b[38;5;241m=\u001b[39m \u001b[38;5;124m'\u001b[39m\u001b[38;5;124m2020-12-31\u001b[39m\u001b[38;5;124m'\u001b[39m\n\u001b[1;32m----> 6\u001b[0m start_date_dt \u001b[38;5;241m=\u001b[39m \u001b[43mdatetime\u001b[49m\u001b[38;5;241;43m.\u001b[39;49m\u001b[43mstrptime\u001b[49m(start_date, \u001b[38;5;124m'\u001b[39m\u001b[38;5;124m%\u001b[39m\u001b[38;5;124mY-\u001b[39m\u001b[38;5;124m%\u001b[39m\u001b[38;5;124mm-\u001b[39m\u001b[38;5;132;01m%d\u001b[39;00m\u001b[38;5;124m'\u001b[39m)\n\u001b[0;32m      7\u001b[0m end_date_dt \u001b[38;5;241m=\u001b[39m datetime\u001b[38;5;241m.\u001b[39mstrptime(end_date, \u001b[38;5;124m'\u001b[39m\u001b[38;5;124m%\u001b[39m\u001b[38;5;124mY-\u001b[39m\u001b[38;5;124m%\u001b[39m\u001b[38;5;124mm-\u001b[39m\u001b[38;5;132;01m%d\u001b[39;00m\u001b[38;5;124m'\u001b[39m)\n\u001b[0;32m      9\u001b[0m \u001b[38;5;28mprint\u001b[39m(start_date_dt, end_date_dt)\n",
      "\u001b[1;31mAttributeError\u001b[0m: module 'datetime' has no attribute 'strptime'"
     ]
    }
   ],
   "source": [
    "import datetime\n",
    "\n",
    "start_date = '2020-12-20'\n",
    "end_date = '2020-12-31'\n",
    "\n",
    "start_date_dt = datetime.strptime(start_date, '%Y-%m-%d')\n",
    "end_date_dt = datetime.strptime(end_date, '%Y-%m-%d')\n",
    "\n",
    "print(start_date_dt, end_date_dt)\n",
    "\n",
    "current_dt = start_date_dt\n",
    "\n",
    "while current_dt.strftime('%Y-%m-%d') <= end_date:\n",
    "    print(current_dt.strftime('%Y-%m-%d'))\n",
    "    \n",
    "    current_dt += timedelta(days=1)"
   ]
  },
  {
   "cell_type": "code",
   "execution_count": null,
   "id": "a4309be4-f0e7-4c99-88dd-7b1339f1674e",
   "metadata": {},
   "outputs": [],
   "source": []
  }
 ],
 "metadata": {
  "kernelspec": {
   "display_name": "Python 3 (ipykernel)",
   "language": "python",
   "name": "python3"
  },
  "language_info": {
   "codemirror_mode": {
    "name": "ipython",
    "version": 3
   },
   "file_extension": ".py",
   "mimetype": "text/x-python",
   "name": "python",
   "nbconvert_exporter": "python",
   "pygments_lexer": "ipython3",
   "version": "3.12.2"
  }
 },
 "nbformat": 4,
 "nbformat_minor": 5
}
