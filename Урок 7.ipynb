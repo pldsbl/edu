{
 "cells": [
  {
   "cell_type": "code",
   "execution_count": 15,
   "id": "d383423a-e30a-4cdf-b83f-d718a7a18b4f",
   "metadata": {},
   "outputs": [],
   "source": [
    "class Employee:\n",
    "\n",
    "    def __init__(self, name, seniority):\n",
    "        self.name = name\n",
    "        self.seniority = seniority\n",
    "\n",
    "        self.grade = 1\n",
    "\n",
    "    def grade_up(self):\n",
    "        '''\n",
    "        Повышение уровня сотрудников\n",
    "        '''\n",
    "        self.grade += 1\n",
    "\n",
    "    def publish_grade(self):\n",
    "        '''\n",
    "        Публикация результатов аккредитации сотрудников\n",
    "        '''\n",
    "        print(self.name, self.grade, self.seniority)\n",
    "\n",
    "    def check_if_it_is_time_for_upgrade(self):\n",
    "        pass"
   ]
  },
  {
   "cell_type": "code",
   "execution_count": 16,
   "id": "0f955142-c839-4485-b9ee-134cfe38d876",
   "metadata": {},
   "outputs": [],
   "source": [
    "class Developer(Employee):\n",
    "\n",
    "    def __init__(self, name, seniority):\n",
    "        super().__init__(name, seniority)\n",
    "\n",
    "    def check_if_it_is_time_for_upgrade(self):\n",
    "        '''\n",
    "        для каждой аккредитации увеличивается счетчик на 1\n",
    "        пока считаем, что все разрабочики проходят аккредитацию\n",
    "        '''\n",
    "        \n",
    "        self.seniority += 1        \n",
    "        # условие повышения сотрудников из презентации\n",
    "        if self.seniority % 5 == 0:\n",
    "            self.grade_up()\n",
    "\n",
    "        # публикация результатов\n",
    "        return self.publish_grade()"
   ]
  },
  {
   "cell_type": "code",
   "execution_count": 17,
   "id": "f4209f60-5722-4779-ac8d-594bc6a6421b",
   "metadata": {},
   "outputs": [],
   "source": [
    "class Designer(Employee):\n",
    "\n",
    "    def __init__(self, name, seniority, award):\n",
    "        super().__init__(name, seniority)\n",
    "        self.seniority = award\n",
    "\n",
    "    def check_if_it_is_time_for_upgrade(self):\n",
    "        '''\n",
    "        для каждой аккредитации увеличивается счетчик на 1\n",
    "        пока считаем, что все разрабочики проходят аккредитацию\n",
    "        '''\n",
    "        \n",
    "        self.seniority += 1        \n",
    "        # условие повышения сотрудников из презентации\n",
    "        if self.seniority % 7 == 0:\n",
    "            self.grade_up()\n",
    "\n",
    "        # публикация результатов\n",
    "        return self.publish_grade()"
   ]
  },
  {
   "cell_type": "code",
   "execution_count": 18,
   "id": "14d7d5a2-34e2-4d1f-9463-309a216430ab",
   "metadata": {},
   "outputs": [],
   "source": [
    "magda = Designer('Magda', 0, award=2)"
   ]
  },
  {
   "cell_type": "code",
   "execution_count": 19,
   "id": "269b5e0a-1ff6-492c-9f03-28ccc4d75d30",
   "metadata": {},
   "outputs": [
    {
     "name": "stdout",
     "output_type": "stream",
     "text": [
      "Magda 1 3\n",
      "Magda 1 4\n",
      "Magda 1 5\n",
      "Magda 1 6\n",
      "Magda 2 7\n",
      "Magda 2 8\n",
      "Magda 2 9\n",
      "Magda 2 10\n",
      "Magda 2 11\n",
      "Magda 2 12\n",
      "Magda 2 13\n",
      "Magda 3 14\n",
      "Magda 3 15\n",
      "Magda 3 16\n",
      "Magda 3 17\n",
      "Magda 3 18\n",
      "Magda 3 19\n",
      "Magda 3 20\n",
      "Magda 4 21\n",
      "Magda 4 22\n",
      "Magda 4 23\n"
     ]
    }
   ],
   "source": [
    "for i in range(21):\n",
    "    magda.check_if_it_is_time_for_upgrade()"
   ]
  },
  {
   "cell_type": "code",
   "execution_count": 20,
   "id": "d9884fa5-8a24-48f6-8a2a-086afd226ef1",
   "metadata": {},
   "outputs": [],
   "source": [
    "peter = Developer('Пётр', 0)"
   ]
  },
  {
   "cell_type": "code",
   "execution_count": 21,
   "id": "f447744e-be0b-4b1e-a8ef-a5208c5e818c",
   "metadata": {},
   "outputs": [
    {
     "name": "stdout",
     "output_type": "stream",
     "text": [
      "Пётр 1 1\n",
      "Пётр 1 2\n",
      "Пётр 1 3\n",
      "Пётр 1 4\n",
      "Пётр 2 5\n",
      "Пётр 2 6\n",
      "Пётр 2 7\n",
      "Пётр 2 8\n",
      "Пётр 2 9\n",
      "Пётр 3 10\n",
      "Пётр 3 11\n",
      "Пётр 3 12\n",
      "Пётр 3 13\n",
      "Пётр 3 14\n",
      "Пётр 4 15\n",
      "Пётр 4 16\n",
      "Пётр 4 17\n",
      "Пётр 4 18\n",
      "Пётр 4 19\n",
      "Пётр 5 20\n"
     ]
    }
   ],
   "source": [
    "for i in range(20):\n",
    "    peter.check_if_it_is_time_for_upgrade()"
   ]
  },
  {
   "cell_type": "code",
   "execution_count": null,
   "id": "76352551-23b1-450e-b437-8737628b7710",
   "metadata": {},
   "outputs": [],
   "source": []
  }
 ],
 "metadata": {
  "kernelspec": {
   "display_name": "Python 3 (ipykernel)",
   "language": "python",
   "name": "python3"
  },
  "language_info": {
   "codemirror_mode": {
    "name": "ipython",
    "version": 3
   },
   "file_extension": ".py",
   "mimetype": "text/x-python",
   "name": "python",
   "nbconvert_exporter": "python",
   "pygments_lexer": "ipython3",
   "version": "3.12.2"
  }
 },
 "nbformat": 4,
 "nbformat_minor": 5
}
