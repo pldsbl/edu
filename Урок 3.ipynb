{
 "cells": [
  {
   "cell_type": "code",
   "execution_count": 61,
   "id": "43919eaf-e643-44b9-b610-392d1501dff0",
   "metadata": {},
   "outputs": [],
   "source": [
    "'''\n",
    "Функция выводит на экран множество уникальных геометок всех пользователей из словаря.\n",
    "'''\n",
    "\n",
    "ids = {'user1': [213, 213, 213, 15, 213], \n",
    "       'user2': [54, 54, 119, 119, 119], \n",
    "       'user3': [213, 98, 98, 35]}\n",
    "\n",
    "def unique_geo():\n",
    "    new_unique = []\n",
    "    for user, geo in ids.items():\n",
    "        new_unique += geo\n",
    "    return set(new_unique)\n",
    "\n",
    "def unique_geo_v2():\n",
    "    new_unique = set()\n",
    "    for user, geo in ids.items():\n",
    "        new_unique = new_unique | set(geo)        \n",
    "    return new_unique"
   ]
  },
  {
   "cell_type": "code",
   "execution_count": 62,
   "id": "9cfa959a-ac79-49f8-b5cf-af7f8b91dc56",
   "metadata": {},
   "outputs": [
    {
     "data": {
      "text/plain": [
       "{15, 35, 54, 98, 119, 213}"
      ]
     },
     "execution_count": 62,
     "metadata": {},
     "output_type": "execute_result"
    }
   ],
   "source": [
    "unique_geo_v2()"
   ]
  },
  {
   "cell_type": "code",
   "execution_count": 124,
   "id": "c22511e6-a3fe-4454-971b-6fcd90fe2794",
   "metadata": {},
   "outputs": [],
   "source": [
    "'''\n",
    "Дана переменная, в которой хранится список поисковых запросов пользователя.\n",
    "Функция выводит на экран распределение по количеству слов в запросах.\n",
    "\n",
    "Запросов из 5 слов: %%\n",
    "Запросов из 2 слов: %%\n",
    "Запросов из 3 слов: %%\n",
    "'''\n",
    "\n",
    "queries = [\n",
    "    'на западном фронте без перемен',\n",
    "    'памяти каталонии',\n",
    "    'прощай оружие',\n",
    "    'скотский хутор',\n",
    "    'жестяной барабан',\n",
    "    'курс по питону',\n",
    "    'чемодан самолёт лондон',\n",
    "]\n",
    "\n",
    "def word_stat():\n",
    "    word_count = {}\n",
    "    for word_query in queries:\n",
    "        if len(word_query.split()) not in word_count:\n",
    "            word_count.setdefault(len(word_query.split()), 1)\n",
    "        else:\n",
    "            word_count[len(word_query.split())] += 1 \n",
    "    for word, count in word_count.items():\n",
    "        print(f'Запросов из {word} слов: {count * 100 / len(queries):0.2f}%') "
   ]
  },
  {
   "cell_type": "code",
   "execution_count": 125,
   "id": "da1f35b4-6e92-4697-a072-46b9f97a5f62",
   "metadata": {},
   "outputs": [
    {
     "name": "stdout",
     "output_type": "stream",
     "text": [
      "Запросов из 5 слов: 14.29%\n",
      "Запросов из 2 слов: 57.14%\n",
      "Запросов из 3 слов: 28.57%\n"
     ]
    }
   ],
   "source": [
    "word_stat()"
   ]
  },
  {
   "cell_type": "code",
   "execution_count": 128,
   "id": "3a805880-4300-4056-b506-cc8316db2564",
   "metadata": {},
   "outputs": [
    {
     "data": {
      "text/plain": [
       "Counter({2: 4, 3: 2, 5: 1})"
      ]
     },
     "execution_count": 128,
     "metadata": {},
     "output_type": "execute_result"
    }
   ],
   "source": [
    "from collections import Counter\n",
    "\n",
    "Counter([5, 3, 3, 2, 2, 2, 2])"
   ]
  },
  {
   "cell_type": "code",
   "execution_count": 134,
   "id": "169c7110-42a6-4538-a63d-34e3bb4e52ee",
   "metadata": {},
   "outputs": [
    {
     "name": "stdout",
     "output_type": "stream",
     "text": [
      "vk показатели: {'revenue': 103, 'cost': 98, 'ROI': 5.1}\n",
      "yandex показатели: {'revenue': 179, 'cost': 153, 'ROI': 16.99}\n",
      "facebook показатели: {'revenue': 103, 'cost': 110, 'ROI': -6.36}\n",
      "adwords показатели: {'revenue': 35, 'cost': 34, 'ROI': 2.94}\n",
      "twitter показатели: {'revenue': 11, 'cost': 24, 'ROI': -54.17}\n"
     ]
    }
   ],
   "source": [
    "'''\n",
    "Функция дополняет исходную структуру показателем ROI, который рассчитаем по формуле: (revenue / cost - 1) * 100\n",
    "'''\n",
    "\n",
    "results = {\n",
    "    'vk': {'revenue': 103, 'cost': 98},\n",
    "    'yandex': {'revenue': 179, 'cost': 153},\n",
    "    'facebook': {'revenue': 103, 'cost': 110},\n",
    "    'adwords': {'revenue': 35, 'cost': 34},\n",
    "    'twitter': {'revenue': 11, 'cost': 24},\n",
    "}\n",
    "\n",
    "for platform, indicators in results.items():\n",
    "    indicators['ROI'] = round((indicators['revenue'] / indicators['cost'] - 1) * 100 , 2)\n",
    "    print(f'{platform} показатели: {indicators}')"
   ]
  },
  {
   "cell_type": "code",
   "execution_count": 140,
   "id": "2839b191-f84c-416d-a08d-ea805c317e51",
   "metadata": {},
   "outputs": [
    {
     "name": "stdout",
     "output_type": "stream",
     "text": [
      "Максимальный обем продаж: 120\n",
      "Максимальный обем продаж на канале: vk\n"
     ]
    }
   ],
   "source": [
    "'''\n",
    "Дана переменная, в которой хранится статистика рекламных каналов по объёмам продаж.\n",
    "Функция возвращает название канала с максимальным объёмом продаж.\n",
    "'''\n",
    "print(f'Максимальный обем продаж: {max(indicators for indicators in stats.values())}')\n",
    "\n",
    "stats = {'facebook': 55, 'yandex': 115, 'vk': 120, 'google': 99, 'email': 42, 'ok': 98}\n",
    "for platform, value in stats.items():\n",
    "    if value == max(indicators for indicators in stats.values()):\n",
    "        print(f'Максимальный обем продаж на канале: {platform}')\n",
    "    "
   ]
  },
  {
   "cell_type": "code",
   "execution_count": 164,
   "id": "39f294ac-3161-4472-a80f-0ef79908ce4a",
   "metadata": {},
   "outputs": [
    {
     "name": "stdout",
     "output_type": "stream",
     "text": [
      "{'po_shosse': 666}\n",
      "{'sasha': {'po_shosse': 666}}\n",
      "{'shla': {'sasha': {'po_shosse': 666}}}\n"
     ]
    }
   ],
   "source": [
    "'''\n",
    "Функция на основе исходного списка составит словарь такого уровня вложенности, какова длина исходого списка\n",
    "'''\n",
    "\n",
    "list_for_query = ['shla', 'sasha', 'po_shosse', 666]\n",
    "#                    0       1           2        3\n",
    "first_dictionary = {}\n",
    "second_dictionary = {}\n",
    "\n",
    "# for list in list_for_query:\n",
    "#    new_dictionary[list] = \n",
    "# print(list_for_query[1])\n",
    "#print({list_for_query[2]:list_for_query[3]})\n",
    "\n",
    "# {list_for_query[2]:list_for_query[3]}\n",
    "\n",
    "first_dictionary = {list_for_query[len(list_for_query) - 2]:list_for_query[len(list_for_query) - 1]}\n",
    "\n",
    "print(first_dictionary)\n",
    "\n",
    "second_dictionary = {list_for_query[len(list_for_query) - 3]:first_dictionary}\n",
    "\n",
    "print(second_dictionary)\n",
    "\n",
    "first_dictionary = {list_for_query[len(list_for_query) - 4]:second_dictionary}\n",
    "print(first_dictionary)"
   ]
  },
  {
   "cell_type": "code",
   "execution_count": 171,
   "id": "7f6e9f4c-f64c-467c-bb8a-3ada412cb53e",
   "metadata": {},
   "outputs": [
    {
     "name": "stdout",
     "output_type": "stream",
     "text": [
      "{'shla': {'sasha': {'po_shosse': 666}}}\n"
     ]
    }
   ],
   "source": [
    "list_for_query = ['shla', 'sasha', 'po_shosse', 666]\n",
    "\n",
    "index = 1\n",
    "temp = list_for_query[len(list_for_query) - index]\n",
    "while index != len(list_for_query):\n",
    "    index += 1\n",
    "    temp = {list_for_query[len(list_for_query) - index]:temp}\n",
    "    \n",
    "print(temp)"
   ]
  },
  {
   "cell_type": "code",
   "execution_count": 170,
   "id": "2edc0cfb-22fa-4565-bef3-7e13effe8700",
   "metadata": {},
   "outputs": [
    {
     "name": "stdout",
     "output_type": "stream",
     "text": [
      "{'shla': {'sasha': {'po_shosse': {666: {'pela': {'koska': 'ostronos'}}}}}}\n"
     ]
    }
   ],
   "source": [
    "list_for_query = ['shla', 'sasha', 'po_shosse', 666, 'pela','koska','ostronos']\n",
    "\n",
    "index = 1\n",
    "temp = list_for_query[len(list_for_query) - index]\n",
    "while index != len(list_for_query):\n",
    "    index += 1\n",
    "    temp = {list_for_query[len(list_for_query) - index]:temp}\n",
    "    \n",
    "print(temp)\n",
    "\n"
   ]
  },
  {
   "cell_type": "code",
   "execution_count": 177,
   "id": "1153ba96-2725-4f18-9c6f-f68abc4fccdf",
   "metadata": {},
   "outputs": [
    {
     "name": "stdout",
     "output_type": "stream",
     "text": [
      "Переворачиваем список [666, 'po_shosse', 'sasha', 'shla']\n",
      "Цикл перебирает элемент 666\n",
      "Создаем значение для первого ключа, которое является 666\n",
      "Цикл перебирает элемент po_shosse\n",
      "Добавляем вложеность {'po_shosse': 666}\n",
      "Цикл перебирает элемент sasha\n",
      "Добавляем вложеность {'sasha': {'po_shosse': 666}}\n",
      "Цикл перебирает элемент shla\n",
      "Добавляем вложеность {'shla': {'sasha': {'po_shosse': 666}}}\n",
      "{'shla': {'sasha': {'po_shosse': 666}}}\n"
     ]
    }
   ],
   "source": [
    "list_for_query = ['shla', 'sasha', 'po_shosse', 666]\n",
    "\n",
    "key = ' '\n",
    "value = ' '\n",
    "\n",
    "list_for_query.reverse()\n",
    "print(f'Переворачиваем список {list_for_query}')\n",
    "\n",
    "for elements in list_for_query:\n",
    "    print(f'Цикл перебирает элемент {elements}')\n",
    "    if (value != ' '):\n",
    "        # key = value переменную key можно совсеп убрать, учитывая что по смысл тут ещё и перепутано название ключ значение\n",
    "        # value = {elements: key}\n",
    "        value = {elements: value}\n",
    "        print(f'Добавляем вложеность {value}')\n",
    "    else: \n",
    "        value = elements\n",
    "        print(f'Создаем значение для первого ключа, которое является {value}')\n",
    "print(value)"
   ]
  },
  {
   "cell_type": "code",
   "execution_count": null,
   "id": "841743d5-2030-4827-8443-5572adab8ae4",
   "metadata": {},
   "outputs": [],
   "source": []
  }
 ],
 "metadata": {
  "kernelspec": {
   "display_name": "Python 3 (ipykernel)",
   "language": "python",
   "name": "python3"
  },
  "language_info": {
   "codemirror_mode": {
    "name": "ipython",
    "version": 3
   },
   "file_extension": ".py",
   "mimetype": "text/x-python",
   "name": "python",
   "nbconvert_exporter": "python",
   "pygments_lexer": "ipython3",
   "version": "3.12.2"
  }
 },
 "nbformat": 4,
 "nbformat_minor": 5
}
