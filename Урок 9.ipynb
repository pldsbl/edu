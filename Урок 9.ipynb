{
 "cells": [
  {
   "cell_type": "code",
   "execution_count": 15,
   "id": "f8dc3685-8e15-481f-a5e6-8a0a26e7ce2a",
   "metadata": {},
   "outputs": [],
   "source": [
    "import requests\n",
    "\n",
    "class Rate:\n",
    "\n",
    "    def __init__(self, format_='value', diff=False):\n",
    "        self.format = format_\n",
    "        self.diff = diff\n",
    "\n",
    "    def get_valute(self):\n",
    "        '''\n",
    "        Возращает словарь с информацей о валютах, где ключи идентификаторы валют, как например 'USD', 'EUR' и далее\n",
    "\n",
    "        \"USD\": {\n",
    "            \"ID\": \"R01235\",\n",
    "            \"NumCode\": \"840\",\n",
    "            \"CharCode\": \"USD\",\n",
    "            \"Nominal\": 1,\n",
    "            \"Name\": \"Доллар США\",\n",
    "            \"Value\": 98.0126,\n",
    "            \"Previous\": 97.9658\n",
    "        }\n",
    "\n",
    "        '''\n",
    "        self.r = requests.get('https://www.cbr-xml-daily.ru/daily_json.js')\n",
    "        return self.r.json()['Valute']\n",
    "\n",
    "    def make_format(self, currency):\n",
    "        '''\n",
    "        Возвращает информацию о валюте currency в двух вариантах -- 'full' или 'value'\n",
    "        '''\n",
    "\n",
    "        response = self.get_valute()\n",
    "\n",
    "        if currency in response:\n",
    "            if self.format == 'full':\n",
    "                    return response[currency]\n",
    "\n",
    "            if self.format == 'value' and not self.diff:\n",
    "                return response[currency]['Value']\n",
    "            else:\n",
    "                return response[currency]['Previous'] - response[currency]['Value']\n",
    "\n",
    "        return 'Error'\n",
    "\n",
    "    def eur(self):\n",
    "        '''\n",
    "        Возвращает курс евро на сегодня в формате self.format\n",
    "        '''\n",
    "        return self.make_format('EUR')\n",
    "\n",
    "    def usd(self):\n",
    "        '''\n",
    "        Возвращает курс доллара на сегодня в формате self.format\n",
    "        '''\n",
    "        return self.make_format('USD')\n",
    "    \n",
    "    def top_rate(self):\n",
    "        '''\n",
    "        Напишите функцию, которая возвращает название валюты (поле ‘Name’) с максимальным значением курса \n",
    "        '''\n",
    "        response = self.get_valute()\n",
    "        \n",
    "        key_top_valute = list(response.keys())[0]\n",
    "\n",
    "        for key, valute in response.items():\n",
    "            if response[key_top_valute]['Value'] < valute['Value']:\n",
    "                key_top_valute = key\n",
    "\n",
    "        return f'Валюта с максимальным значением курса: {response[key_top_valute]['Name']}'\n"
   ]
  },
  {
   "cell_type": "code",
   "execution_count": 16,
   "id": "0f1bfec8-8bf4-48d4-936c-faffa429357e",
   "metadata": {},
   "outputs": [],
   "source": [
    "dollar = Rate('value')"
   ]
  },
  {
   "cell_type": "code",
   "execution_count": 17,
   "id": "e4258faf-bf79-4a91-af1f-0359a2c3d615",
   "metadata": {},
   "outputs": [
    {
     "data": {
      "text/plain": [
       "{'ID': 'R01239',\n",
       " 'NumCode': '978',\n",
       " 'CharCode': 'EUR',\n",
       " 'Nominal': 1,\n",
       " 'Name': 'Евро',\n",
       " 'Value': 102.1301,\n",
       " 'Previous': 102.7782}"
      ]
     },
     "execution_count": 17,
     "metadata": {},
     "output_type": "execute_result"
    }
   ],
   "source": [
    "Rate('full').eur()"
   ]
  },
  {
   "cell_type": "code",
   "execution_count": 21,
   "id": "d412c259-ef0a-4267-9fae-d6ca5268cb37",
   "metadata": {},
   "outputs": [
    {
     "data": {
      "text/plain": [
       "0.6480999999999995"
      ]
     },
     "execution_count": 21,
     "metadata": {},
     "output_type": "execute_result"
    }
   ],
   "source": [
    "Rate('value',True).eur()"
   ]
  },
  {
   "cell_type": "code",
   "execution_count": 22,
   "id": "212479fb-6722-4d28-b57b-750a96152e52",
   "metadata": {},
   "outputs": [
    {
     "data": {
      "text/plain": [
       "0.19550000000000978"
      ]
     },
     "execution_count": 22,
     "metadata": {},
     "output_type": "execute_result"
    }
   ],
   "source": [
    "Rate('value',True).usd()"
   ]
  },
  {
   "cell_type": "code",
   "execution_count": 19,
   "id": "a9e131b2-bb75-42e4-bc08-a8abd671c492",
   "metadata": {},
   "outputs": [
    {
     "data": {
      "text/plain": [
       "97.8107"
      ]
     },
     "execution_count": 19,
     "metadata": {},
     "output_type": "execute_result"
    }
   ],
   "source": [
    "Rate('value').usd()"
   ]
  },
  {
   "cell_type": "code",
   "execution_count": 20,
   "id": "76732753-d85e-44bc-b42a-30ebced87d83",
   "metadata": {},
   "outputs": [
    {
     "data": {
      "text/plain": [
       "'Валюта с максимальным значением курса: СДР (специальные права заимствования)'"
      ]
     },
     "execution_count": 20,
     "metadata": {},
     "output_type": "execute_result"
    }
   ],
   "source": [
    "dollar.top_rate()"
   ]
  },
  {
   "cell_type": "code",
   "execution_count": 12,
   "id": "26638de1-0ee4-4387-9ef1-20c272751436",
   "metadata": {},
   "outputs": [
    {
     "data": {
      "text/plain": [
       "'Валюта с максимальным значением курса: СДР (специальные права заимствования)'"
      ]
     },
     "execution_count": 12,
     "metadata": {},
     "output_type": "execute_result"
    }
   ],
   "source": [
    "Rate('value').top_rate()"
   ]
  },
  {
   "cell_type": "code",
   "execution_count": null,
   "id": "ba1d45fe-f207-4cd1-9777-9c8c952a75ea",
   "metadata": {},
   "outputs": [],
   "source": []
  }
 ],
 "metadata": {
  "kernelspec": {
   "display_name": "Python 3 (ipykernel)",
   "language": "python",
   "name": "python3"
  },
  "language_info": {
   "codemirror_mode": {
    "name": "ipython",
    "version": 3
   },
   "file_extension": ".py",
   "mimetype": "text/x-python",
   "name": "python",
   "nbconvert_exporter": "python",
   "pygments_lexer": "ipython3",
   "version": "3.12.2"
  }
 },
 "nbformat": 4,
 "nbformat_minor": 5
}
