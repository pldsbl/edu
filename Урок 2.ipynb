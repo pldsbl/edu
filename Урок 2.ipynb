{
 "cells": [
  {
   "cell_type": "code",
   "execution_count": 10,
   "id": "98fe8297-179d-4ff0-84e7-1311662c189b",
   "metadata": {},
   "outputs": [],
   "source": [
    "'''\n",
    "Функуия выбирает из слова среднюю букву, если число букв в слове нечетное; две средних буквы, если число букв четное\n",
    "'''\n",
    "def get_core_word(word):\n",
    "    if len(word) % 2 == 0:\n",
    "        return word[len(word) // 2 - 1] + word[len(word) // 2]\n",
    "    else:\n",
    "        return word[len(word) // 2]"
   ]
  },
  {
   "cell_type": "code",
   "execution_count": 11,
   "id": "2f12bf4f-3e15-4dda-8efc-f7e01a534db0",
   "metadata": {},
   "outputs": [
    {
     "name": "stdout",
     "output_type": "stream",
     "text": [
      "4\n",
      "2\n"
     ]
    },
    {
     "data": {
      "text/plain": [
       "'es'"
      ]
     },
     "execution_count": 11,
     "metadata": {},
     "output_type": "execute_result"
    }
   ],
   "source": [
    "get_core_word('test')"
   ]
  },
  {
   "cell_type": "code",
   "execution_count": 12,
   "id": "f0c6da71-f052-45f7-a632-4c93315c911a",
   "metadata": {},
   "outputs": [
    {
     "name": "stdout",
     "output_type": "stream",
     "text": [
      "7\n",
      "3\n"
     ]
    },
    {
     "data": {
      "text/plain": [
       "'t'"
      ]
     },
     "execution_count": 12,
     "metadata": {},
     "output_type": "execute_result"
    }
   ],
   "source": [
    "get_core_word('testing')"
   ]
  },
  {
   "cell_type": "code",
   "execution_count": 20,
   "id": "57934175-2744-4d34-993e-5e14d4321dc3",
   "metadata": {},
   "outputs": [],
   "source": [
    "'''\n",
    "Функция последовательно запрашивает числа (по одному за раз) и после первого нуля выводит сумму всех ранее введенных чисел\n",
    "'''\n",
    "\n",
    "def none_zero():  \n",
    "    sum_number = 0    \n",
    "    while True:        \n",
    "        new_number = int(input('Введите новое число: '))\n",
    "        sum_number += new_number        \n",
    "        if new_number == 0:\n",
    "            break\n",
    "    return f'Сумма чисел: {sum_number}'\n",
    "        "
   ]
  },
  {
   "cell_type": "code",
   "execution_count": 21,
   "id": "b663aa0a-d259-4bdf-9a35-b68c9e60a558",
   "metadata": {},
   "outputs": [
    {
     "name": "stdin",
     "output_type": "stream",
     "text": [
      "Введите новое число:  1\n",
      "Введите новое число:  4\n",
      "Введите новое число:  6\n",
      "Введите новое число:  0\n"
     ]
    },
    {
     "data": {
      "text/plain": [
       "'Сумма чисел: 11'"
      ]
     },
     "execution_count": 21,
     "metadata": {},
     "output_type": "execute_result"
    }
   ],
   "source": [
    "none_zero()"
   ]
  },
  {
   "cell_type": "code",
   "execution_count": 22,
   "id": "cea9ba6f-b1e9-4f50-b689-39a4da7f3df2",
   "metadata": {},
   "outputs": [
    {
     "name": "stdin",
     "output_type": "stream",
     "text": [
      "Введите новое число:  0\n"
     ]
    },
    {
     "data": {
      "text/plain": [
       "'Сумма чисел: 0'"
      ]
     },
     "execution_count": 22,
     "metadata": {},
     "output_type": "execute_result"
    }
   ],
   "source": [
    "none_zero()"
   ]
  },
  {
   "cell_type": "code",
   "execution_count": 33,
   "id": "8fe1eb53-a40d-499b-9133-61609fc12399",
   "metadata": {},
   "outputs": [],
   "source": [
    "def get_dating():\n",
    "    if len(boys) == len(girls):\n",
    "        couple = zip(sorted(boys),sorted(girls))\n",
    "        print('Идеальные пары')\n",
    "        for names in couple:\n",
    "            print(names[0] + ' и ' + names[1])\n",
    "    else:\n",
    "        return 'Кто-то может остаться без пары!'"
   ]
  },
  {
   "cell_type": "code",
   "execution_count": 34,
   "id": "a0a20b50-060a-44c3-a53a-aa3e7dad5472",
   "metadata": {},
   "outputs": [
    {
     "name": "stdout",
     "output_type": "stream",
     "text": [
      "Идеальные пары\n",
      "Alex и Emma\n",
      "Arthur и Kate\n",
      "John и Kira\n",
      "Peter и Liza\n",
      "Richard и Trisha\n"
     ]
    }
   ],
   "source": [
    "boys = ['Peter', 'Alex', 'John', 'Arthur', 'Richard']\n",
    "girls = ['Kate', 'Liza', 'Kira', 'Emma', 'Trisha']\n",
    "\n",
    "get_dating()"
   ]
  },
  {
   "cell_type": "code",
   "execution_count": 35,
   "id": "c0561154-d746-4a76-997c-227da1d6f0e7",
   "metadata": {},
   "outputs": [
    {
     "data": {
      "text/plain": [
       "'Кто-то может остаться без пары!'"
      ]
     },
     "execution_count": 35,
     "metadata": {},
     "output_type": "execute_result"
    }
   ],
   "source": [
    "boys = ['Peter', 'Alex', 'John', 'Arthur', 'Richard', 'Michael']\n",
    "girls = ['Kate', 'Liza', 'Kira', 'Emma', 'Trisha']\n",
    "\n",
    "get_dating()"
   ]
  },
  {
   "cell_type": "code",
   "execution_count": 74,
   "id": "b13f9879-c804-4755-8059-2cd33ab37b33",
   "metadata": {},
   "outputs": [],
   "source": [
    "'''\n",
    "Функция рассчитает среднюю температуру за период в Цельсиях(в вводных данные температуры представлены в фаренгейтах) для каждой страны\n",
    "'''\n",
    "\n",
    "def fahr_to_cels(temp):\n",
    "    return (temp - 32) / 1.8\n",
    "\n",
    "def avrg_temp():\n",
    "    for land, temp in countries_temperature:\n",
    "        print(f'{land} -- {fahr_to_cels(sum(temp) / len(temp)):0.1f}\\N{DEGREE SIGN}С')"
   ]
  },
  {
   "cell_type": "code",
   "execution_count": 75,
   "id": "74715f64-ec5d-4550-bb86-20a9dae08b0d",
   "metadata": {},
   "outputs": [
    {
     "name": "stdout",
     "output_type": "stream",
     "text": [
      "Thailand -- 23.9°С\n",
      "Germany -- 13.8°С\n",
      "Russia -- 3.7°С\n",
      "Poland -- 12.0°С\n"
     ]
    }
   ],
   "source": [
    "countries_temperature = [\n",
    "\n",
    "['Thailand', [75.2, 77, 78.8, 73.4, 68, 75.2, 77]],\n",
    "['Germany', [57.2, 55.4, 59, 59, 53.6]],\n",
    "['Russia', [35.6, 37.4, 39.2, 41, 42.8, 39.2, 35.6]],\n",
    "['Poland', [50, 50, 53.6, 57.2, 55.4, 55.4]]\n",
    "]\n",
    "\n",
    "avrg_temp()"
   ]
  },
  {
   "cell_type": "code",
   "execution_count": 98,
   "id": "d081647b-322d-4f84-ac29-af68faf9b1f6",
   "metadata": {},
   "outputs": [],
   "source": [
    "'''\n",
    "Функция высчитывает среднее значение просмотров на пользователя из логов по количеству просмотренных страниц.\n",
    "Среднее тут это отношение суммы всех просмотров к количеству уникальных пользователей.\n",
    "'''\n",
    "stream = [\n",
    "    '2018-01-01,user1,3',\n",
    "    '2018-01-07,user1,4',\n",
    "    '2018-03-29,user1,1',\n",
    "    '2018-04-04,user1,13',\n",
    "    '2018-01-05,user2,7',\n",
    "    '2018-06-14,user3,4',\n",
    "    '2018-07-02,user3,10',\n",
    "   ' 2018-03-21,user4,19',\n",
    "    '2018-03-22,user4,4',\n",
    "    '2018-04-22,user4,8',\n",
    "    '2018-05-03,user4,9',\n",
    "    '2018-05-11,user4,11'\n",
    "]\n",
    "\n",
    "def view_stat():\n",
    "    total_user = []\n",
    "    count_view = 0    \n",
    "    for date_view in stream:\n",
    "        temp_date = date_view.split(',')\n",
    "        if temp_date[1] not in total_user:\n",
    "            total_user.append(temp_date[1])            \n",
    "        count_view += int(temp_date[2])        \n",
    "    return count_view / len(total_user)\n"
   ]
  },
  {
   "cell_type": "code",
   "execution_count": 99,
   "id": "840abab7-f7c2-4416-a997-3e03925529d1",
   "metadata": {},
   "outputs": [
    {
     "data": {
      "text/plain": [
       "23.25"
      ]
     },
     "execution_count": 99,
     "metadata": {},
     "output_type": "execute_result"
    }
   ],
   "source": [
    "view_stat()"
   ]
  },
  {
   "cell_type": "code",
   "execution_count": 102,
   "id": "b877965c-f61f-4cbd-9f5a-d20d5e874d5a",
   "metadata": {},
   "outputs": [],
   "source": [
    "def view_stat_v2():\n",
    "    user_set = set()\n",
    "    count_view = 0    \n",
    "    for date_view in stream:\n",
    "        temp_date = date_view.split(',')\n",
    "        user_set.add(temp_date[1])            \n",
    "        count_view += int(temp_date[2])        \n",
    "    return count_view / len(user_set)"
   ]
  },
  {
   "cell_type": "code",
   "execution_count": 103,
   "id": "7a7c227c-0812-42cf-959a-f4ce691117f6",
   "metadata": {},
   "outputs": [
    {
     "data": {
      "text/plain": [
       "23.25"
      ]
     },
     "execution_count": 103,
     "metadata": {},
     "output_type": "execute_result"
    }
   ],
   "source": [
    "view_stat_v2()"
   ]
  },
  {
   "cell_type": "code",
   "execution_count": 120,
   "id": "aedb6cc5-fd95-4927-87ff-95cf13b8115f",
   "metadata": {},
   "outputs": [],
   "source": [
    "user_input = '10 15 15 103 200 200 200 1 1 1 1 1 2 2 2'.split()\n",
    "\n",
    "# temp_date = user_input.split(' ')\n",
    "# print(temp_date)"
   ]
  },
  {
   "cell_type": "code",
   "execution_count": 121,
   "id": "604757dd-5534-4938-a707-0b31e215bc63",
   "metadata": {},
   "outputs": [
    {
     "data": {
      "text/plain": [
       "{'1', '15', '2', '200'}"
      ]
     },
     "execution_count": 121,
     "metadata": {},
     "output_type": "execute_result"
    }
   ],
   "source": [
    "{num for num in user_input if user_input.count(num) > 1}\n"
   ]
  },
  {
   "cell_type": "code",
   "execution_count": 122,
   "id": "ace26aa0-bd9a-4176-a295-0531cceae54d",
   "metadata": {},
   "outputs": [
    {
     "data": {
      "text/plain": [
       "['1', '15', '200', '2']"
      ]
     },
     "execution_count": 122,
     "metadata": {},
     "output_type": "execute_result"
    }
   ],
   "source": [
    "list({num for num in user_input if user_input.count(num) > 1})"
   ]
  },
  {
   "cell_type": "code",
   "execution_count": 126,
   "id": "2e75a095-d121-4a46-bbbb-646e04950ba0",
   "metadata": {},
   "outputs": [
    {
     "data": {
      "text/plain": [
       "[1, 2, 15, 200]"
      ]
     },
     "execution_count": 126,
     "metadata": {},
     "output_type": "execute_result"
    }
   ],
   "source": [
    "sorted(list({int(num) for num in user_input if user_input.count(num) > 1}))"
   ]
  },
  {
   "cell_type": "code",
   "execution_count": 131,
   "id": "f9372ec3-a91d-44cf-be02-42d0a52227c9",
   "metadata": {},
   "outputs": [
    {
     "data": {
      "text/plain": [
       "'1, 15, 2, 200'"
      ]
     },
     "execution_count": 131,
     "metadata": {},
     "output_type": "execute_result"
    }
   ],
   "source": [
    "', '.join(sorted(list({num for num in user_input if user_input.count(num) > 1})))"
   ]
  },
  {
   "cell_type": "code",
   "execution_count": 130,
   "id": "457d169a-e00c-486b-961f-afac7f837bc5",
   "metadata": {},
   "outputs": [
    {
     "name": "stdout",
     "output_type": "stream",
     "text": [
      "1, 2, 15, 200\n"
     ]
    }
   ],
   "source": [
    "result = sorted(list({int(num) for num in user_input if user_input.count(num) > 1}))\n",
    "print(', '.join(str(num) for num in result)) "
   ]
  },
  {
   "cell_type": "code",
   "execution_count": null,
   "id": "cdb8abe1-c022-499d-893d-00beb571417d",
   "metadata": {},
   "outputs": [],
   "source": []
  },
  {
   "cell_type": "code",
   "execution_count": null,
   "id": "c006cc0e-5c20-4501-bd33-83eab15cacad",
   "metadata": {},
   "outputs": [],
   "source": []
  }
 ],
 "metadata": {
  "kernelspec": {
   "display_name": "Python 3 (ipykernel)",
   "language": "python",
   "name": "python3"
  },
  "language_info": {
   "codemirror_mode": {
    "name": "ipython",
    "version": 3
   },
   "file_extension": ".py",
   "mimetype": "text/x-python",
   "name": "python",
   "nbconvert_exporter": "python",
   "pygments_lexer": "ipython3",
   "version": "3.12.2"
  }
 },
 "nbformat": 4,
 "nbformat_minor": 5
}
