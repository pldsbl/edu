{
 "cells": [
  {
   "cell_type": "code",
   "execution_count": 1,
   "id": "538476b4-7535-470c-a86f-952af4ad8ac5",
   "metadata": {},
   "outputs": [
    {
     "data": {
      "text/plain": [
       "'\\nЗадание 1\\nНапишите функцию, которая возвращает название валюты (поле ‘Name’) с максимальным значением курса \\nс помощью сервиса https://www.cbr-xml-daily.ru/daily_json.js\\n'"
      ]
     },
     "execution_count": 1,
     "metadata": {},
     "output_type": "execute_result"
    }
   ],
   "source": [
    "'''\n",
    "Задание 1\n",
    "Напишите функцию, которая возвращает название валюты (поле ‘Name’) с максимальным значением курса \n",
    "с помощью сервиса https://www.cbr-xml-daily.ru/daily_json.js\n",
    "\n",
    "пример словаря с ключом [Valute] \n",
    "\n",
    "\"USD\": {\n",
    "            \"ID\": \"R01235\",\n",
    "            \"NumCode\": \"840\",\n",
    "            \"CharCode\": \"USD\",\n",
    "            \"Nominal\": 1,\n",
    "            \"Name\": \"Доллар США\",\n",
    "            \"Value\": 98.0126,\n",
    "            \"Previous\": 97.9658\n",
    "        }\n",
    "'''"
   ]
  },
  {
   "cell_type": "code",
   "execution_count": 40,
   "id": "55597543-dd9d-400b-819f-957487ba73d0",
   "metadata": {},
   "outputs": [],
   "source": [
    "import requests\n",
    "\n",
    "def top_valute():\n",
    "\n",
    "    r = requests.get('https://www.cbr-xml-daily.ru/daily_json.js')\n",
    "    response = r.json()['Valute']\n",
    "    \n",
    "    key_top_valute = list(response.keys())[0]\n",
    "\n",
    "    for key, valute in response.items():\n",
    "        if response[key_top_valute]['Value'] < valute['Value']:\n",
    "            key_top_valute = key\n",
    "\n",
    "    return f'Валюта с максимальным значением курса: {response[key_top_valute]['Name']}'"
   ]
  },
  {
   "cell_type": "code",
   "execution_count": 41,
   "id": "dbf85c6e-caf0-45a2-9a43-055434630b32",
   "metadata": {},
   "outputs": [
    {
     "name": "stdout",
     "output_type": "stream",
     "text": [
      "Установлено новое максимальное значние\n",
      "Установлено новое максимальное значние\n"
     ]
    },
    {
     "data": {
      "text/plain": [
       "'Валюта с максимальным значением курса: СДР (специальные права заимствования)'"
      ]
     },
     "execution_count": 41,
     "metadata": {},
     "output_type": "execute_result"
    }
   ],
   "source": [
    "top_valute()"
   ]
  },
  {
   "cell_type": "code",
   "execution_count": 15,
   "id": "0f189f0b-a849-41aa-8fa2-78b4d4a77ac3",
   "metadata": {},
   "outputs": [
    {
     "name": "stdout",
     "output_type": "stream",
     "text": [
      "AUD\n"
     ]
    }
   ],
   "source": [
    "import requests\n",
    "\n",
    "r = requests.get('https://www.cbr-xml-daily.ru/daily_json.js')\n",
    "response = r.json()['Valute']\n",
    "    \n",
    "print(list(response.keys())[0])"
   ]
  },
  {
   "cell_type": "code",
   "execution_count": 2,
   "id": "cc5e0443-b014-44c9-b99e-14b8ac7c78fa",
   "metadata": {},
   "outputs": [
    {
     "name": "stdout",
     "output_type": "stream",
     "text": [
      "{'ID': 'R01235', 'NumCode': '840', 'CharCode': 'USD', 'Nominal': 1, 'Name': 'Доллар США', 'Value': 97.8107, 'Previous': 98.0062}\n",
      "97.8107\n"
     ]
    }
   ],
   "source": [
    "import requests\n",
    "\n",
    "r = requests.get('https://www.cbr-xml-daily.ru/daily_json.js')\n",
    "#requests.get('https://www.cbr-xml-daily.ru/daily_json.js')\n",
    "#print(r.json())\n",
    "#print(r.json()['Valute'])\n",
    "print(r.json()['Valute']['USD'])\n",
    "print(r.json()['Valute']['USD']['Value'])"
   ]
  },
  {
   "cell_type": "code",
   "execution_count": 4,
   "id": "dab05b33-b7c3-432f-9f12-e0826895a306",
   "metadata": {},
   "outputs": [
    {
     "name": "stdout",
     "output_type": "stream",
     "text": [
      "Австралийский доллар 60.8872\n",
      "Азербайджанский манат 57.5357\n",
      "Фунт стерлингов 121.9406\n",
      "Армянских драмов 24.6158\n",
      "Белорусский рубль 28.7653\n",
      "Болгарский лев 52.0253\n",
      "Бразильский реал 16.5772\n",
      "Форинтов 24.899\n",
      "Донгов 40.2099\n",
      "Гонконгский доллар 12.5737\n",
      "Лари 34.0081\n",
      "Датская крона 13.6369\n",
      "Дирхам ОАЭ 26.6333\n",
      "Доллар США 97.8107\n",
      "Евро 102.1301\n",
      "Египетских фунтов 19.4691\n",
      "Индийских рупий 11.2891\n",
      "Рупий 60.1579\n",
      "Тенге 18.8358\n",
      "Канадский доллар 67.8581\n",
      "Катарский риал 26.8711\n",
      "Сомов 11.1848\n",
      "Юань 13.2638\n",
      "Молдавских леев 52.3713\n",
      "Новозеландский доллар 55.043\n",
      "Норвежских крон 86.513\n",
      "Злотый 24.1056\n",
      "Румынский лей 20.3946\n",
      "СДР (специальные права заимствования) 127.6772\n",
      "Сингапурский доллар 72.1744\n",
      "Сомони 89.5358\n",
      "Батов 29.0653\n",
      "Турецких лир 27.3572\n",
      "Новый туркменский манат 27.9459\n",
      "Узбекских сумов 75.4886\n",
      "Гривен 23.3861\n",
      "Чешских крон 40.5181\n",
      "Шведских крон 88.7118\n",
      "Швейцарский франк 107.3899\n",
      "Сербских динаров 86.77\n",
      "Рэндов 52.6119\n",
      "Вон 68.2416\n",
      "Иен 63.3776\n"
     ]
    }
   ],
   "source": []
  },
  {
   "cell_type": "code",
   "execution_count": null,
   "id": "cdac475c-6411-4a55-a7c5-c7752e24ab2e",
   "metadata": {},
   "outputs": [],
   "source": []
  }
 ],
 "metadata": {
  "kernelspec": {
   "display_name": "Python 3 (ipykernel)",
   "language": "python",
   "name": "python3"
  },
  "language_info": {
   "codemirror_mode": {
    "name": "ipython",
    "version": 3
   },
   "file_extension": ".py",
   "mimetype": "text/x-python",
   "name": "python",
   "nbconvert_exporter": "python",
   "pygments_lexer": "ipython3",
   "version": "3.12.2"
  }
 },
 "nbformat": 4,
 "nbformat_minor": 5
}
